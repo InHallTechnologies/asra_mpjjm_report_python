{
 "cells": [
  {
   "cell_type": "code",
   "execution_count": 64,
   "metadata": {},
   "outputs": [],
   "source": [
    "import pandas as pd\n",
    "import json"
   ]
  },
  {
   "cell_type": "code",
   "execution_count": 65,
   "metadata": {},
   "outputs": [],
   "source": [
    "file = open('baseline-survey-c50e0-default-rtdb-ALL_ENTRIES_ARCHIVE-export.json')"
   ]
  },
  {
   "cell_type": "code",
   "execution_count": 66,
   "metadata": {},
   "outputs": [],
   "source": [
    "main_database = json.load(file)"
   ]
  },
  {
   "cell_type": "code",
   "execution_count": 67,
   "metadata": {},
   "outputs": [],
   "source": [
    "entry_list = []\n",
    "for operatorId in main_database:\n",
    "    for entryId in main_database[operatorId]:\n",
    "        entry = main_database[operatorId][entryId]\n",
    "        entry_list.append(entry)"
   ]
  },
  {
   "cell_type": "code",
   "execution_count": 68,
   "metadata": {},
   "outputs": [],
   "source": [
    "main_database_df = pd.DataFrame(entry_list)"
   ]
  },
  {
   "cell_type": "code",
   "execution_count": 69,
   "metadata": {},
   "outputs": [],
   "source": [
    "def dict_to_string(data):\n",
    "    final_data = \"\"\n",
    "    for key in data:\n",
    "        if(data[key] == True):\n",
    "           final_data += key +\", \"\n",
    "    return final_data\n",
    "\n",
    "def dict_to_string_key_to_val(data):\n",
    "    \n",
    "    final_data = \"\"\n",
    "    for key in data:\n",
    "        temp = f\"{key}: {data[key]}, \" if len(data[key]) != 0 else f\"{key}: 0, \"\n",
    "       \n",
    "        final_data += temp\n",
    "    return final_data;"
   ]
  },
  {
   "cell_type": "code",
   "execution_count": 70,
   "metadata": {},
   "outputs": [],
   "source": [
    "main_database_df['aayMukhyaStrot'] = main_database_df['aayMukhyaStrot'].apply(dict_to_string)\n",
    "main_database_df['dainikKarya'] = main_database_df['dainikKarya'].apply(dict_to_string)\n",
    "main_database_df['handpumpWaterBroughtBy'] = main_database_df['handpumpWaterBroughtBy'].apply(dict_to_string)\n",
    "main_database_df['indhanPrakar'] = main_database_df['indhanPrakar'].apply(dict_to_string)\n",
    "main_database_df['jalJanitRog'] = main_database_df['jalJanitRog'].apply(dict_to_string)\n",
    "main_database_df['typeOfNewsPaper'] = main_database_df['typeOfNewsPaper'].apply(dict_to_string)\n",
    "main_database_df['typeOfShows'] = main_database_df['typeOfShows'].apply(dict_to_string)\n",
    "main_database_df['uplabdhaSansadhan'] = main_database_df['uplabdhaSansadhan'].apply(dict_to_string)\n",
    "main_database_df['waterSources'] = main_database_df['waterSources'].apply(dict_to_string)\n",
    "\n",
    "\n",
    "main_database_df['avrittiAvadhi'] = main_database_df['avrittiAvadhi'].apply(dict_to_string_key_to_val)\n",
    "main_database_df['borewellYearlyBill'] = main_database_df['borewellYearlyBill'].apply(dict_to_string_key_to_val)\n",
    "main_database_df['dailyWaterUsage'] = main_database_df['dailyWaterUsage'].apply(dict_to_string_key_to_val)\n",
    "main_database_df['jalApoortiSatisfaction'] = main_database_df['jalApoortiSatisfaction'].apply(dict_to_string_key_to_val)\n",
    "main_database_df['kshetraFal'] = main_database_df['kshetraFal'].apply(dict_to_string_key_to_val)\n",
    "main_database_df['masikVyay'] = main_database_df['masikVyay'].apply(dict_to_string_key_to_val)\n",
    "\n",
    "\n",
    "# pashuSankhya\n",
    "# familyMembers\n",
    "\n"
   ]
  },
  {
   "cell_type": "code",
   "execution_count": 71,
   "metadata": {},
   "outputs": [],
   "source": [
    "pashuSankhya_df = pd.json_normalize(main_database_df['pashuSankhya'])\n",
    "familyMembers_df = pd.json_normalize(main_database_df['familyMembers'])\n",
    "familyMembers_df.fillna(0, inplace=True)"
   ]
  },
  {
   "cell_type": "code",
   "execution_count": 72,
   "metadata": {},
   "outputs": [],
   "source": [
    "final = pd.concat([main_database_df, familyMembers_df, pashuSankhya_df], axis=1)"
   ]
  },
  {
   "cell_type": "code",
   "execution_count": 73,
   "metadata": {},
   "outputs": [],
   "source": [
    "final.to_excel(\"Report.xlsx\", index=False)"
   ]
  },
  {
   "cell_type": "code",
   "execution_count": null,
   "metadata": {},
   "outputs": [],
   "source": []
  }
 ],
 "metadata": {
  "kernelspec": {
   "display_name": "Python 3",
   "language": "python",
   "name": "python3"
  },
  "language_info": {
   "codemirror_mode": {
    "name": "ipython",
    "version": 3
   },
   "file_extension": ".py",
   "mimetype": "text/x-python",
   "name": "python",
   "nbconvert_exporter": "python",
   "pygments_lexer": "ipython3",
   "version": "3.11.5"
  }
 },
 "nbformat": 4,
 "nbformat_minor": 2
}
